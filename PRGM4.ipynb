{
  "cells": [
    {
      "cell_type": "markdown",
      "metadata": {
        "id": "view-in-github",
        "colab_type": "text"
      },
      "source": [
        "<a href=\"https://colab.research.google.com/github/SNEHA62003/ML_Activity/blob/main/PRGM4.ipynb\" target=\"_parent\"><img src=\"https://colab.research.google.com/assets/colab-badge.svg\" alt=\"Open In Colab\"/></a>"
      ]
    },
    {
      "cell_type": "markdown",
      "metadata": {
        "id": "yD0bQyoLr329"
      },
      "source": [
        "PROGRAM 4\n"
      ]
    },
    {
      "cell_type": "code",
      "execution_count": 1,
      "metadata": {
        "colab": {
          "base_uri": "https://localhost:8080/"
        },
        "id": "Lo3i57Chr32_",
        "outputId": "c5d8c854-1f78-44e8-dfa9-864a04720eba"
      },
      "outputs": [
        {
          "output_type": "stream",
          "name": "stdout",
          "text": [
            "The dataset is:\n",
            "      sky airtemp humidity    wind water forecast enjoy\n",
            "0  sunny    warm   normal  strong  warm     same     Y\n",
            "1  sunny    warm     high  strong  warm     same     Y\n",
            "2  rainy    cold     high  strong  warm   change     N\n",
            "3  sunny    warm     high  strong  cool   change     Y\n"
          ]
        }
      ],
      "source": [
        "import pandas as pd\n",
        "df = pd.read_csv(\"enjoysport.csv\")\n",
        "print('The dataset is:\\n', df)"
      ]
    },
    {
      "cell_type": "code",
      "execution_count": 2,
      "metadata": {
        "id": "NGF-Zx1zr33A"
      },
      "outputs": [],
      "source": [
        "data = df.iloc[0:, 0:7].values"
      ]
    },
    {
      "cell_type": "code",
      "execution_count": 3,
      "metadata": {
        "id": "yXWxsEdYr33A"
      },
      "outputs": [],
      "source": [
        "h = ['0','0','0','0','0','0']"
      ]
    },
    {
      "cell_type": "code",
      "execution_count": 4,
      "metadata": {
        "id": "h9TB5-kLr33A"
      },
      "outputs": [],
      "source": [
        "def Generalize(h, a):\n",
        "    for i in range(len(a)):\n",
        "        if(h[i] != a[i]):\n",
        "            h[i] = '?'\n",
        "        else:\n",
        "            h[i] = a[i]\n",
        "    return(h)"
      ]
    },
    {
      "cell_type": "code",
      "execution_count": 5,
      "metadata": {
        "colab": {
          "base_uri": "https://localhost:8080/"
        },
        "id": "xswmGhfUr33B",
        "outputId": "2f032d9a-fbea-4635-f866-06b15f3e34c9"
      },
      "outputs": [
        {
          "output_type": "stream",
          "name": "stdout",
          "text": [
            "The more general than hypothesis is: ['sunny' 'warm' '?' 'strong' '?' '?']\n"
          ]
        }
      ],
      "source": [
        "X = data[:, 0:6]\n",
        "Y = data[:, -1]\n",
        "if Y[0] == \"Y\":\n",
        "    h = X[0,:]\n",
        "else:\n",
        "    print(\"Error: First Example in not positive\")\n",
        "\n",
        "for i in range(len(X)):\n",
        "    if(Y[i] == \"Y\"):\n",
        "        h = Generalize(h,X[i,:])\n",
        "\n",
        "print(\"The more general than hypothesis is:\", h)"
      ]
    }
  ],
  "metadata": {
    "kernelspec": {
      "display_name": "Python 3",
      "language": "python",
      "name": "python3"
    },
    "language_info": {
      "codemirror_mode": {
        "name": "ipython",
        "version": 3
      },
      "file_extension": ".py",
      "mimetype": "text/x-python",
      "name": "python",
      "nbconvert_exporter": "python",
      "pygments_lexer": "ipython3",
      "version": "3.13.2"
    },
    "colab": {
      "provenance": [],
      "include_colab_link": true
    }
  },
  "nbformat": 4,
  "nbformat_minor": 0
}